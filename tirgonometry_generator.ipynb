{
  "nbformat": 4,
  "nbformat_minor": 0,
  "metadata": {
    "colab": {
      "provenance": []
    },
    "kernelspec": {
      "name": "python3",
      "display_name": "Python 3"
    },
    "language_info": {
      "name": "python"
    }
  },
  "cells": [
    {
      "cell_type": "code",
      "execution_count": null,
      "metadata": {
        "id": "S7ENyL8tG9pe"
      },
      "outputs": [],
      "source": [
        "import math\n",
        "import random\n"
      ]
    },
    {
      "cell_type": "code",
      "source": [
        "def sin_squared_given_tan():\n",
        "    \"\"\"\n",
        "    Для задач на вычисление значения sin^2(alpha), id = 14056\n",
        "    \"\"\"\n",
        "    # Генерируем случайное значение tg(alpha)\n",
        "    random_tan = random.uniform(-10, 10)  # Пример диапазона (-10, 10), вы можете настроить по своему усмотрению\n",
        "\n",
        "    alpha = math.degrees(math.atan(random_tan))  # Calculate alpha in degrees given random_tan\n",
        "    sin_squared = math.sin(math.radians(alpha)) ** 2\n",
        "\n",
        "    task = f\"Вычислите значение sin^2(alpha), если tan(alpha) = {random_tan:.4f}\"\n",
        "    answer = f\"{sin_squared:.4f}\"\n",
        "    solution = (\n",
        "        f\"Решение: используем соотношение между тангенсом и синусом: \"\n",
        "        f\"tan(alpha) = sin(alpha) / cos(alpha), \"\n",
        "        f\"откуда sin(alpha) = tan(alpha) * cos(alpha). \"\n",
        "        f\"\\\\\\\\\"\n",
        "        f\"Поскольку tan(alpha) = {random_tan:.4f}, \"\n",
        "        f\"находим alpha = arctan({random_tan:.4f}) в градусах. \"\n",
        "        f\"\\\\\\\\\"\n",
        "        f\"Затем вычисляем sin^2(alpha) = (sin(alpha))^2 = \"\n",
        "        f\"(sin({alpha}°))^2 = {sin_squared:.4f})\"\n",
        "    )\n",
        "    return answer, task, solution\n",
        "\n",
        "answer, task, solution = sin_squared_given_tan()\n",
        "print(\"Task:\", task)\n",
        "print(\"Answer:\", answer)\n",
        "print(\"Solution: \", solution)\n"
      ],
      "metadata": {
        "colab": {
          "base_uri": "https://localhost:8080/"
        },
        "id": "NMQutdunHIW0",
        "outputId": "b560c8e0-bbea-4ff3-e68c-2489e10f4e0d"
      },
      "execution_count": 166,
      "outputs": [
        {
          "output_type": "stream",
          "name": "stdout",
          "text": [
            "Task: Вычислите значение sin^2(alpha), если tan(alpha) = 5.0768\n",
            "Answer: 0.9626\n",
            "Solution:  Решение: используем соотношение между тангенсом и синусом: tan(alpha) = sin(alpha) / cos(alpha), откуда sin(alpha) = tan(alpha) * cos(alpha). \\\\Поскольку tan(alpha) = 5.0768, находим alpha = arctan(5.0768) в градусах. \\\\Затем вычисляем sin^2(alpha) = (sin(alpha))^2 = (sin(78.85676530905506°))^2 = 0.9626)\n"
          ]
        }
      ]
    },
    {
      "cell_type": "code",
      "source": [
        "def calculate_sin_given_ctg():\n",
        "    \"\"\"\n",
        "    Для задач на вычисление значения sin(alpha)  id = 14050\n",
        "    \"\"\"\n",
        "    # Генерируем случайное значение для ctg(alpha)\n",
        "    ctg_alpha = random.uniform(-100, 100)\n",
        "\n",
        "    # Вычисляем alpha и sin(alpha)\n",
        "    alpha = math.degrees(math.atan(1 / ctg_alpha))\n",
        "    sin_alpha = math.sin(math.radians(alpha))\n",
        "\n",
        "    task = f\"Вычислите значение \\\\(\\\\sin\\\\alpha\\\\), если \\\\(\\\\mathrm{{ctg}}\\\\alpha = {ctg_alpha:.4f}\\\\)\"\n",
        "    answer = f\"{sin_alpha:.4f}\"\n",
        "    solution = (\n",
        "        f\"Решение: используем соотношение между котангенсом и тангенсом: \"\n",
        "        f\"\\\\(\\\\mathrm{{ctg}}\\\\alpha = \\\\frac{{1}}{{\\\\tan\\\\alpha}}\\\\), \"\n",
        "        f\"откуда \\\\(\\\\tan\\\\alpha = \\\\frac{{1}}{{\\\\mathrm{{ctg}}\\\\alpha}}\\\\). \"\n",
        "        f\"\\\\\\\\\"\n",
        "        f\"Находим \\\\(\\\\tan\\\\alpha = \\\\frac{{1}}{{{ctg_alpha:.4f}}}\\\\), \"\n",
        "        f\"а затем вычисляем \\\\(\\\\alpha = \\\\arctan(\\\\tan\\\\alpha)\\\\) в градусах. \"\n",
        "        f\"\\\\\\\\\"\n",
        "        f\"Затем вычисляем \\\\(\\\\sin\\\\alpha = \\\\sin({alpha:.4f}^\\\\circ) = {sin_alpha:.4f}\\\\)\"\n",
        "    )\n",
        "    return answer, task, solution\n",
        "\n",
        "answer, task, solution = calculate_sin_given_ctg()\n",
        "print(\"Task:\", task)\n",
        "print(\"Answer:\", answer)\n",
        "print(\"Solution:\", solution)\n"
      ],
      "metadata": {
        "colab": {
          "base_uri": "https://localhost:8080/"
        },
        "id": "6Zn0h3LvHLrH",
        "outputId": "3eee60f0-979b-43cf-d338-a943a3e7bffd"
      },
      "execution_count": 168,
      "outputs": [
        {
          "output_type": "stream",
          "name": "stdout",
          "text": [
            "Task: Вычислите значение \\(\\sin\\alpha\\), если \\(\\mathrm{ctg}\\alpha = -82.7117\\)\n",
            "Answer: -0.0121\n",
            "Solution: Решение: используем соотношение между котангенсом и тангенсом: \\(\\mathrm{ctg}\\alpha = \\frac{1}{\\tan\\alpha}\\), откуда \\(\\tan\\alpha = \\frac{1}{\\mathrm{ctg}\\alpha}\\). \\\\Находим \\(\\tan\\alpha = \\frac{1}{-82.7117}\\), а затем вычисляем \\(\\alpha = \\arctan(\\tan\\alpha)\\) в градусах. \\\\Затем вычисляем \\(\\sin\\alpha = \\sin(-0.6927^\\circ) = -0.0121\\)\n"
          ]
        }
      ]
    },
    {
      "cell_type": "code",
      "source": [
        "def sin_cos_product():\n",
        "    \"\"\"\n",
        "    Для задач на вычисление произведения sin*cos, id = 14258\n",
        "    \"\"\"\n",
        "    x = random.randint(0, 360)  # Выбор случайного угла от 0 до 360 градусов\n",
        "    y = random.randint(0, 360)  # Выбор случайного угла от 0 до 360 градусов\n",
        "\n",
        "    task = f\"Вычислите \\\\(\\\\sin{x}^\\\\circ\\\\cos{y}^\\\\circ\\\\)\"\n",
        "    answer = f\"{round(math.sin(math.radians(x)) * math.cos(math.radians(y)), 4):g}\"\n",
        "    solution = (\n",
        "        f\"Solution: use the formulas for sine and cosine: \"\n",
        "        f\"\\\\(\\\\sin(\\\\alpha) = \\\\sin({x}^\\\\circ)\\\\) and \\\\(\\\\cos(\\\\beta) = \\\\cos({y}^\\\\circ)\\\\). \"\n",
        "        f\"\\\\\\\\\"\n",
        "        f\"\\\\(\\\\sin{x}^\\\\circ\\\\cos{y}^\\\\circ = \\\\sin{x}^\\\\circ \\\\cdot \\\\cos{y}^\\\\circ = \"\n",
        "        f\"\\\\sin({x}^\\\\circ) \\\\cdot \\\\cos({y}^\\\\circ) = \"\n",
        "        f\"\\\\sin({x}^\\\\circ) \\\\cdot \\\\cos({y}^\\\\circ) = \"\n",
        "        f\"{answer}\\\\)\"\n",
        "    )\n",
        "    return answer, task, solution\n",
        "\n",
        "answer, task, solution = sin_cos_product()\n",
        "print(\"Task:\", task)\n",
        "print(\"Answer:\", answer)\n",
        "print(\"Solution: \", solution)\n",
        "\n"
      ],
      "metadata": {
        "id": "I47csRB0J6Ue",
        "colab": {
          "base_uri": "https://localhost:8080/"
        },
        "outputId": "33b36379-fcd3-4ef0-e97c-f21db8497aa7"
      },
      "execution_count": 170,
      "outputs": [
        {
          "output_type": "stream",
          "name": "stdout",
          "text": [
            "Task: Вычислите \\(\\sin350^\\circ\\cos211^\\circ\\)\n",
            "Answer: 0.1488\n",
            "Solution:  Solution: use the formulas for sine and cosine: \\(\\sin(\\alpha) = \\sin(350^\\circ)\\) and \\(\\cos(\\beta) = \\cos(211^\\circ)\\). \\\\\\(\\sin350^\\circ\\cos211^\\circ = \\sin350^\\circ \\cdot \\cos211^\\circ = \\sin(350^\\circ) \\cdot \\cos(211^\\circ) = \\sin(350^\\circ) \\cdot \\cos(211^\\circ) = 0.1488\\)\n"
          ]
        }
      ]
    },
    {
      "cell_type": "code",
      "source": [
        "def cos_product_to_sum():\n",
        "    \"\"\"\n",
        "    Преобразуйте в сумму, id = 14245\n",
        "    \"\"\"\n",
        "    angle1 = random.randint(1, 360)  # Генерация случайного угла в градусах\n",
        "    angle2 = random.randint(1, 360)\n",
        "\n",
        "    cos_product = math.cos(math.radians(angle1)) * math.cos(math.radians(angle2))\n",
        "    sum_result = (math.cos(math.radians(angle1 + angle2)) + math.cos(math.radians(angle1 - angle2))) / 2\n",
        "\n",
        "    task = f\"Преобразуйте выражение в сумму: \\(\\cos({angle1}^{{\\circ}}) \\cdot \\cos({angle2}^{{\\circ}})\\)\"\n",
        "    answer = f\"{sum_result:.4f}\"\n",
        "    solution = (\n",
        "        f\"Решение: используем формулу преобразования произведения косинусов в сумму:\"\n",
        "        f\"\\(\\cos(a) \\cdot \\cos(b) = \\\\frac{{\\cos(a + b) + \\cos(a - b)}}{2}\\)\"\n",
        "        f\"\\\\\\\\\"\n",
        "        f\"В данном случае, \\(a = {angle1}^{{\\circ}}\\) и \\(b = {angle2}^{{\\circ}}\\), поэтому:\"\n",
        "        f\"\\\\\\\\\"\n",
        "        f\"\\(\\cos({angle1}^{{\\circ}}) \\cdot \\cos({angle2}^{{\\circ}}) = \"\n",
        "        f\"\\\\frac{{\\cos({angle1 + angle2}^{{\\circ}}) + \\cos({angle1 - angle2}^{{\\circ}})}}{2}\\)\"\n",
        "        f\"\\\\\\\\\"\n",
        "        f\"Подставляем значения и вычисляем:\"\n",
        "        f\"\\\\\\\\\"\n",
        "        f\"\\(\\cos({angle1 + angle2}^{{\\circ}}) + \\cos({angle1 - angle2}^{{\\circ}}) = {sum_result:.4f}\\)\"\n",
        "    )\n",
        "    return answer, task, solution\n",
        "\n",
        "answer, task, solution = cos_product_to_sum()\n",
        "print(\"Task:\", task)\n",
        "print(\"Answer:\", answer)\n",
        "print(\"Solution:\", solution)\n"
      ],
      "metadata": {
        "id": "-yYh7GowHT86",
        "colab": {
          "base_uri": "https://localhost:8080/"
        },
        "outputId": "856c36e2-77e1-40d2-b50f-256a94a6ecd1"
      },
      "execution_count": 173,
      "outputs": [
        {
          "output_type": "stream",
          "name": "stdout",
          "text": [
            "Task: Преобразуйте выражение в сумму: \\(\\cos(289^{\\circ}) \\cdot \\cos(213^{\\circ})\\)\n",
            "Answer: -0.2730\n",
            "Solution: Решение: используем формулу преобразования произведения косинусов в сумму:\\(\\cos(a) \\cdot \\cos(b) = \\frac{\\cos(a + b) + \\cos(a - b)}2\\)\\\\В данном случае, \\(a = 289^{\\circ}\\) и \\(b = 213^{\\circ}\\), поэтому:\\\\\\(\\cos(289^{\\circ}) \\cdot \\cos(213^{\\circ}) = \\frac{\\cos(502^{\\circ}) + \\cos(76^{\\circ})}2\\)\\\\Подставляем значения и вычисляем:\\\\\\(\\cos(502^{\\circ}) + \\cos(76^{\\circ}) = -0.2730\\)\n"
          ]
        }
      ]
    },
    {
      "cell_type": "code",
      "source": [
        "def cos_product():\n",
        "    \"\"\"\n",
        "    Для задачи на вычисление произведения косинусов, id = 14243\n",
        "    \"\"\"\n",
        "    angles = [random.randint(1, 360) for _ in range(3)]  # Генерируем случайные углы от 1 до 360\n",
        "    product = 1\n",
        "    for angle in angles:\n",
        "        product *= math.cos(math.radians(angle))\n",
        "\n",
        "    task = f\"Вычислите \\(\\cos{angles[0]}^0 \\cdot \\cos{angles[1]}^0 \\cdot \\cos{angles[2]}^0\\)\"\n",
        "    answer = f\"{round(product, 4):g}\"\n",
        "    solution = (\n",
        "        f\"Решение: используем формулу произведения косинусов \"\n",
        "        f\"\\(\\cos(\\\\alpha) \\cdot \\cos(\\\\beta) \\cdot \\cos(\\\\gamma) = \"\n",
        "        f\"\\cos(\\\\alpha + \\\\beta + \\\\gamma)\\). \"\n",
        "        f\"\\\\\\\\\"\n",
        "        f\"\\(\\cos{angles[0]}^0 \\cdot \\cos{angles[1]}^0 \\cdot \\cos{angles[2]}^0 = \"\n",
        "        f\"\\cos({angles[0]}^0 + {angles[1]}^0 + {angles[2]}^0) = \"\n",
        "        f\"\\cos({angles[0]} + {angles[1]} + {angles[2]})^0 = {answer}\\)\"\n",
        "    )\n",
        "    return answer, task, solution\n",
        "\n",
        "answer, task, solution = cos_product()\n",
        "print(\"Task:\", task)\n",
        "print(\"Answer:\", answer)\n",
        "print(\"Solution: \", solution)\n"
      ],
      "metadata": {
        "colab": {
          "base_uri": "https://localhost:8080/"
        },
        "id": "Sd-iHWnZNxQX",
        "outputId": "8b0031fd-1d2a-40d4-dffa-3c97029ebf53"
      },
      "execution_count": null,
      "outputs": [
        {
          "output_type": "stream",
          "name": "stdout",
          "text": [
            "Task: Вычислите \\(\\cos258^0 \\cdot \\cos204^0 \\cdot \\cos75^0\\)\n",
            "Answer: 0.0492\n",
            "Solution:  Решение: используем формулу произведения косинусов \\(\\cos(\\alpha) \\cdot \\cos(\\beta) \\cdot \\cos(\\gamma) = \\cos(\\alpha + \\beta + \\gamma)\\). \\\\\\(\\cos258^0 \\cdot \\cos204^0 \\cdot \\cos75^0 = \\cos(258^0 + 204^0 + 75^0) = \\cos(258 + 204 + 75)^0 = 0.0492\\)\n"
          ]
        }
      ]
    },
    {
      "cell_type": "code",
      "source": [
        "def sin_product_random_angles():\n",
        "    \"\"\"\n",
        "    Для задачи на вычисление произведения синусов с случайными углами, id = 14249\n",
        "    \"\"\"\n",
        "    angles = [random.randint(0, 360) for _ in range(3)]  # Generate 3 random angles in degrees\n",
        "    sin_product_result = 1.0\n",
        "\n",
        "    for angle in angles:\n",
        "        sin_product_result *= math.sin(math.radians(angle))\n",
        "\n",
        "    angles_str = \", \".join([f\"{angle}°\" for angle in angles])\n",
        "    task = f\"Вычислите произведение \\(\\sin {angles_str}\\)\"\n",
        "    answer = f\"{sin_product_result:.4f}\"\n",
        "    solution = (\n",
        "        f\"Решение: Для вычисления произведения синусов используем свойство: \"\n",
        "        f\"\\(\\sin(\\\\alpha) \\cdot \\sin(\\\\beta) = \\\\frac{{1}}{{2}} [ \\cos(\\\\alpha - \\\\beta) - \\cos(\\\\alpha + \\\\beta)]\\). \"\n",
        "        f\"\\\\\\\\\"\n",
        "        f\"Применяем это свойство для каждой пары углов и получаем: \"\n",
        "        f\"\\(\\sin {angles_str} = \"\n",
        "        f\"\\\\frac{{1}}{{2}} [ \\cos({angles[1]}° - {angles[2]}°) - \\cos({angles[1]}° + {angles[2]}°)] \\\\\\\\\"\n",
        "        f\"= \\\\frac{{1}}{{2}} [ \\cos({angles[1] - angles[2]}°) - \\cos({angles[1] + angles[2]}°)]\"\n",
        "        f\"= {sin_product_result:.4f}\"\n",
        "    )\n",
        "\n",
        "    return answer, task, solution\n",
        "\n",
        "answer, task, solution = sin_product_random_angles()\n",
        "print(\"Task:\", task)\n",
        "print(\"Answer:\", answer)\n",
        "print(\"Solution:\", solution)\n"
      ],
      "metadata": {
        "colab": {
          "base_uri": "https://localhost:8080/"
        },
        "id": "hOOQNHmPOnpe",
        "outputId": "9c30490e-14e5-4c44-a080-9fad0166648a"
      },
      "execution_count": null,
      "outputs": [
        {
          "output_type": "stream",
          "name": "stdout",
          "text": [
            "Task: Вычислите произведение \\(\\sin 85°, 323°, 138°\\)\n",
            "Answer: -0.4012\n",
            "Solution: Решение: Для вычисления произведения синусов используем свойство: \\(\\sin(\\alpha) \\cdot \\sin(\\beta) = \\frac{1}{2} [ \\cos(\\alpha - \\beta) - \\cos(\\alpha + \\beta)]\\). \\\\Применяем это свойство для каждой пары углов и получаем: \\(\\sin 85°, 323°, 138° = \\frac{1}{2} [ \\cos(323° - 138°) - \\cos(323° + 138°)] \\\\= \\frac{1}{2} [ \\cos(185°) - \\cos(461°)]= -0.4012\n"
          ]
        }
      ]
    },
    {
      "cell_type": "code",
      "source": [
        "def generate_transform_to_sum_of_sines_task():\n",
        "    \"\"\"\n",
        "    Генерирует задачу \"Преобразуйте в сумму sin750⋅sin150\" id = 14253\n",
        "    \"\"\"\n",
        "    angle_1 = random.randint(0, 360)\n",
        "    angle_2 = random.randint(0, 360)\n",
        "\n",
        "    angle_sum = angle_1 + angle_2\n",
        "    sin_sum = math.sin(math.radians(angle_1)) * math.cos(math.radians(angle_2)) + \\\n",
        "              math.cos(math.radians(angle_1)) * math.sin(math.radians(angle_2))\n",
        "\n",
        "    task = f\"Преобразуйте выражение \\(\\sin({angle_1}) \\cdot \\sin({angle_2})\\) в сумму синусов и косинусов.\"\n",
        "    answer = f\"{sin_sum:.4f}\"\n",
        "    solution = (\n",
        "        f\"Решение: используем тригонометрическое тождество \\(\\sin(\\alpha + \\beta) = \\sin \\alpha \\cdot \\cos \\beta + \\cos \\alpha \\cdot \\sin \\beta\\). \"\n",
        "        f\"\\\\\\\\\"\n",
        "        f\"Преобразуем углы: {angle_1} = 360 + {angle_2}. \"\n",
        "        f\"\\\\\\\\\"\n",
        "        f\"Теперь можем применить тождество: \"\n",
        "        f\"\\\\\\\\\"\n",
        "        f\"\\(\\sin({angle_1}) \\cdot \\sin({angle_2}) = \\sin({angle_1} + {angle_2}) = \\sin({angle_sum})\\). \"\n",
        "        f\"\\\\\\\\\"\n",
        "        f\"Подставляем значение синуса суммы углов и получаем \\(\\sin({angle_sum}) = {sin_sum:.4f}\\).\"\n",
        "    )\n",
        "    return answer, task, solution\n",
        "\n",
        "answer, task, solution = generate_transform_to_sum_of_sines_task()\n",
        "print(\"Task:\", task)\n",
        "print(\"Answer:\", answer)\n",
        "print(\"Solution: \", solution)\n"
      ],
      "metadata": {
        "colab": {
          "base_uri": "https://localhost:8080/"
        },
        "id": "9hcdRYjXO1VJ",
        "outputId": "570b2800-2829-421b-a171-97aa097c4be3"
      },
      "execution_count": null,
      "outputs": [
        {
          "output_type": "stream",
          "name": "stdout",
          "text": [
            "Task: Преобразуйте выражение \\(\\sin(40) \\cdot \\sin(289)\\) в сумму синусов и косинусов.\n",
            "Answer: -0.5150\n",
            "Solution:  Решение: используем тригонометрическое тождество \\(\\sin(\u0007lpha + \beta) = \\sin \u0007lpha \\cdot \\cos \beta + \\cos \u0007lpha \\cdot \\sin \beta\\). \\\\Преобразуем углы: 40 = 360 + 289. \\\\Теперь можем применить тождество: \\\\\\(\\sin(40) \\cdot \\sin(289) = \\sin(40 + 289) = \\sin(329)\\). \\\\Подставляем значение синуса суммы углов и получаем \\(\\sin(329) = -0.5150\\).\n"
          ]
        }
      ]
    },
    {
      "cell_type": "code",
      "source": [],
      "metadata": {
        "id": "3xCosyMCW09c"
      },
      "execution_count": null,
      "outputs": []
    }
  ]
}