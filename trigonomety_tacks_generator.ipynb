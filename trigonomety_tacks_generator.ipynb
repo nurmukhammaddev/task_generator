{
  "cells": [
    {
      "cell_type": "code",
      "execution_count": 18,
      "metadata": {
        "id": "S7ENyL8tG9pe"
      },
      "outputs": [],
      "source": [
        "import math\n",
        "import random\n",
        "import numpy as np\n"
      ]
    },
    {
      "cell_type": "code",
      "execution_count": null,
      "metadata": {
        "colab": {
          "base_uri": "https://localhost:8080/"
        },
        "id": "IQMuYcMZvL2z",
        "outputId": "c6462425-7369-4fa0-bb2a-479e20ea794b"
      },
      "outputs": [
        {
          "output_type": "stream",
          "name": "stdout",
          "text": [
            "0.8\n",
            "36 18\n"
          ]
        }
      ],
      "source": [
        "\n",
        "answer = 1.2345667\n",
        "while abs(int(answer*10000) - answer*10000) > 0.000001:\n",
        "  m,n = np.random.randint(1, 100, size=2)\n",
        "  answer = m*m/(m*m+n*n)\n",
        "\n",
        "print(answer)\n",
        "print(m,n)"
      ]
    },
    {
      "cell_type": "code",
      "execution_count": null,
      "metadata": {
        "colab": {
          "base_uri": "https://localhost:8080/"
        },
        "id": "BzEiCkcew7JF",
        "outputId": "6261396b-fe6b-4500-c369-ee7e9d57a8f2"
      },
      "outputs": [
        {
          "name": "stdout",
          "output_type": "stream",
          "text": [
            "0.06833805095026284\n",
            "683\n",
            "683.3805095026283\n",
            "0.3805095026283425\n"
          ]
        }
      ],
      "source": [
        "m,n = np.random.randint(1, 100, size=2)\n",
        "answer = m*m/(m*m+n*n)\n",
        "\n",
        "print(answer)\n",
        "print(int(answer*10000))\n",
        "print(answer*10000)\n",
        "print(abs(int(answer*10000) - answer*10000))"
      ]
    },
    {
      "cell_type": "code",
      "execution_count": null,
      "metadata": {
        "id": "kReYnT-OuwJ1",
        "outputId": "97362b08-07c1-48a4-bdd0-13727e1e6bbc",
        "colab": {
          "base_uri": "https://localhost:8080/",
          "height": 145
        }
      },
      "outputs": [
        {
          "output_type": "error",
          "ename": "IndentationError",
          "evalue": "ignored",
          "traceback": [
            "\u001b[0;36m  File \u001b[0;32m\"<ipython-input-4-583ec13423ba>\"\u001b[0;36m, line \u001b[0;32m4\u001b[0m\n\u001b[0;31m    random_tan = random.uniform(-10, 10)  # Пример диапазона (-10, 10), вы можете настроить по своему усмотрению\u001b[0m\n\u001b[0m    ^\u001b[0m\n\u001b[0;31mIndentationError\u001b[0m\u001b[0;31m:\u001b[0m expected an indented block after 'while' statement on line 1\n"
          ]
        }
      ],
      "source": [
        "while abs(int(answer[0]) - answer[0]) > 0.000001:\n",
        "\n",
        "\n",
        "random_tan = random.uniform(-10, 10)  # Пример диапазона (-10, 10), вы можете настроить по своему усмотрению\n",
        "alpha = math.degrees(math.atan(random_tan))  # Calculate alpha in degrees given random_tan\n",
        "sin_squared = math.sin(math.radians(alpha)) ** 2"
      ]
    },
    {
      "cell_type": "code",
      "execution_count": 14,
      "metadata": {
        "colab": {
          "base_uri": "https://localhost:8080/"
        },
        "id": "NMQutdunHIW0",
        "outputId": "7770e87a-c668-4335-be31-70a6da5a4be9"
      },
      "outputs": [
        {
          "output_type": "stream",
          "name": "stdout",
          "text": [
            "Task: Вычислите значение sin^2(alpha), если tan(alpha) = -2.6271\n",
            "Answer: 0.8734\n",
            "Solution:  Решение: используем формулу sin(x) = tg(x)^2 / (tg(x)^2 + 1). Подставляем значение tan(alpha) = -2.6271 и получаем sin^2(alpha) = (-2.6271)^2 / (-2.6271)^2 + 1 = 0.8734\n"
          ]
        }
      ],
      "source": [
        "import random\n",
        "import math\n",
        "\n",
        "def sin_squared_given_tan():\n",
        "    \"\"\"\n",
        "    Для задач на вычисление значения sin^2(alpha), id = 14056\n",
        "    \"\"\"\n",
        "    # Генерируем случайное значение tg(alpha)\n",
        "    random_tan = random.uniform(-10, 10)  # Пример диапазона (-10, 10), вы можете настроить по своему усмотрению\n",
        "\n",
        "    alpha = math.degrees(math.atan(random_tan))  # Calculate alpha in degrees given random_tan\n",
        "    sin_squared_decimal = random_tan ** 2 / (random_tan ** 2 + 1)\n",
        "\n",
        "    task = f\"Вычислите значение sin^2(alpha), если tan(alpha) = {random_tan:.4f}\"\n",
        "    answer = f\"{sin_squared_decimal:.4f}\"\n",
        "    solution = (\n",
        "        \"Решение: используем формулу sin(x) = tg(x)^2 / (tg(x)^2 + 1). \"\n",
        "        f\"Подставляем значение tan(alpha) = {random_tan:.4f} и получаем \"\n",
        "        f\"sin^2(alpha) = ({random_tan:.4f})^2 / ({random_tan:.4f})^2 + 1 = {sin_squared_decimal:.4f}\"\n",
        "    )\n",
        "    return answer, task, solution\n",
        "\n",
        "def is_decimal_fraction(number):\n",
        "    \"\"\"\n",
        "    Проверяет, является ли число десятичной дробью.\n",
        "    \"\"\"\n",
        "    return number % 1 != 0\n",
        "\n",
        "answer, task, solution = sin_squared_given_tan()\n",
        "print(\"Task:\", task)\n",
        "print(\"Answer:\", answer)\n",
        "print(\"Solution: \", solution)\n",
        "\n",
        "# Проверка на десятичную дробь с использованием цикла while\n",
        "while not is_decimal_fraction(float(answer)):\n",
        "    answer, task, solution = sin_squared_given_tan()\n",
        "    print(\"Task:\", task)\n",
        "    print(\"Answer:\", answer)\n",
        "    print(\"Solution: \", solution)\n",
        "\n",
        "\n"
      ]
    },
    {
      "cell_type": "code",
      "execution_count": 17,
      "metadata": {
        "colab": {
          "base_uri": "https://localhost:8080/"
        },
        "id": "6Zn0h3LvHLrH",
        "outputId": "ddbeb6d8-4502-4eb7-a76e-bacf665c979c"
      },
      "outputs": [
        {
          "output_type": "stream",
          "name": "stdout",
          "text": [
            "Task: Вычислите значение \\(\\sin\\alpha\\), если \\(\\mathrm{ctg}\\alpha = -1.5900\\) и \\(\\alpha \\in (-\\pi; -\\frac{\\pi}2)\\)\n",
            "Answer: -0.5324\n",
            "Solution: Решение: используем соотношение между котангенсом и тангенсом: \\(\\mathrm{ctg}\\alpha = \\frac{1}{\\tan\\alpha}\\), откуда \\(\\tan\\alpha = \\frac{1}{\\mathrm{ctg}\\alpha}\\). \\\\Находим \\(\\tan\\alpha = \\frac{1}{-1.5900}\\), а затем вычисляем \\(\\alpha = \\arctan(\\tan\\alpha)\\) в градусах. \\\\Затем вычисляем \\(\\sin\\alpha = \\sin(-32.1677^\\circ) = -0.5324\\)\n"
          ]
        }
      ],
      "source": [
        "import math\n",
        "import random\n",
        "\n",
        "def calculate_sin_given_ctg():\n",
        "    \"\"\"\n",
        "    Функция для вычисления значения sin(alpha) при генерации случайного значения ctg(alpha)\n",
        "    в интервале (-pi; -pi/2). ID=14050\n",
        "    \"\"\"\n",
        "    while True:\n",
        "        # Генерируем случайное значение для ctg(alpha) в заданном интервале\n",
        "        ctg_alpha = -1 / math.tan(random.uniform(-math.pi, -math.pi / 2))\n",
        "\n",
        "        # Вычисляем alpha и sin(alpha)\n",
        "        alpha = math.degrees(math.atan(1 / ctg_alpha))\n",
        "        sin_alpha = math.sin(math.radians(alpha))\n",
        "\n",
        "        # Проверка, что sin(alpha) находится в допустимом диапазоне [-1, 1]\n",
        "        if -1 <= sin_alpha <= 1:\n",
        "            break\n",
        "\n",
        "    task = \"Вычислите значение \\\\(\\\\sin\\\\alpha\\\\), если \"\n",
        "    task += f\"\\\\(\\\\mathrm{{ctg}}\\\\alpha = {ctg_alpha:.4f}\\\\) и \\\\(\\\\alpha \\\\in (-\\\\pi; -\\\\frac{{\\\\pi}}{2})\\\\)\"\n",
        "    answer = f\"{sin_alpha:.4f}\"\n",
        "    solution = (\n",
        "        f\"Решение: используем соотношение между котангенсом и тангенсом: \"\n",
        "        f\"\\\\(\\\\mathrm{{ctg}}\\\\alpha = \\\\frac{{1}}{{\\\\tan\\\\alpha}}\\\\), \"\n",
        "        f\"откуда \\\\(\\\\tan\\\\alpha = \\\\frac{{1}}{{\\\\mathrm{{ctg}}\\\\alpha}}\\\\). \"\n",
        "        f\"\\\\\\\\\"\n",
        "        f\"Находим \\\\(\\\\tan\\\\alpha = \\\\frac{{1}}{{{ctg_alpha:.4f}}}\\\\), \"\n",
        "        f\"а затем вычисляем \\\\(\\\\alpha = \\\\arctan(\\\\tan\\\\alpha)\\\\) в градусах. \"\n",
        "        f\"\\\\\\\\\"\n",
        "        f\"Затем вычисляем \\\\(\\\\sin\\\\alpha = \\\\sin({alpha:.4f}^\\\\circ) = {sin_alpha:.4f}\\\\)\"\n",
        "    )\n",
        "    return answer, task, solution\n",
        "\n",
        "answer, task, solution = calculate_sin_given_ctg()\n",
        "print(\"Task:\", task)\n",
        "print(\"Answer:\", answer)\n",
        "print(\"Solution:\", solution)\n"
      ]
    },
    {
      "cell_type": "code",
      "execution_count": null,
      "metadata": {
        "colab": {
          "base_uri": "https://localhost:8080/"
        },
        "id": "I47csRB0J6Ue",
        "outputId": "f9ed19d4-3051-401b-a05b-a163a05fea20"
      },
      "outputs": [
        {
          "name": "stdout",
          "output_type": "stream",
          "text": [
            "Task: Вычислите \\(\\sin202^\\circ\\cos274^\\circ\\)\n",
            "Answer: -0.0261\n",
            "Solution:  Solution: use the formulas for sine and cosine: \\(\\sin(\\alpha) = \\sin(202^\\circ)\\) and \\(\\cos(\\beta) = \\cos(274^\\circ)\\). \\\\\\(\\sin202^\\circ\\cos274^\\circ = \\sin202^\\circ \\cdot \\cos274^\\circ = \\sin(202^\\circ) \\cdot \\cos(274^\\circ) = \\sin(202^\\circ) \\cdot \\cos(274^\\circ) = -0.0261\\)\n"
          ]
        }
      ],
      "source": [
        "def sin_cos_product():\n",
        "    \"\"\"\n",
        "    Для задач на вычисление произведения sin*cos, id = 14258\n",
        "    \"\"\"\n",
        "    x = random.randint(0, 360)  # Выбор случайного угла от 0 до 360 градусов\n",
        "    y = random.randint(0, 360)  # Выбор случайного угла от 0 до 360 градусов\n",
        "\n",
        "    task = f\"Вычислите \\\\(\\\\sin{x}^\\\\circ\\\\cos{y}^\\\\circ\\\\)\"\n",
        "    answer = f\"{round(math.sin(math.radians(x)) * math.cos(math.radians(y)), 4):g}\"\n",
        "    solution = (\n",
        "        f\"Solution: use the formulas for sine and cosine: \"\n",
        "        f\"\\\\(\\\\sin(\\\\alpha) = \\\\sin({x}^\\\\circ)\\\\) and \\\\(\\\\cos(\\\\beta) = \\\\cos({y}^\\\\circ)\\\\). \"\n",
        "        f\"\\\\\\\\\"\n",
        "        f\"\\\\(\\\\sin{x}^\\\\circ\\\\cos{y}^\\\\circ = \\\\sin{x}^\\\\circ \\\\cdot \\\\cos{y}^\\\\circ = \"\n",
        "        f\"\\\\sin({x}^\\\\circ) \\\\cdot \\\\cos({y}^\\\\circ) = \"\n",
        "        f\"\\\\sin({x}^\\\\circ) \\\\cdot \\\\cos({y}^\\\\circ) = \"\n",
        "        f\"{answer}\\\\)\"\n",
        "    )\n",
        "    return answer, task, solution\n",
        "\n",
        "answer, task, solution = sin_cos_product()\n",
        "print(\"Task:\", task)\n",
        "print(\"Answer:\", answer)\n",
        "print(\"Solution: \", solution)\n",
        "\n"
      ]
    },
    {
      "cell_type": "code",
      "execution_count": null,
      "metadata": {
        "colab": {
          "base_uri": "https://localhost:8080/"
        },
        "id": "-yYh7GowHT86",
        "outputId": "1065e230-a4ab-40b7-b8a2-4f7b19c7e830"
      },
      "outputs": [
        {
          "name": "stdout",
          "output_type": "stream",
          "text": [
            "Task: Преобразуйте выражение в сумму: \\(\\cos(12^{\\circ}) \\cdot \\cos(319^{\\circ})\\)\n",
            "Answer: 0.7382\n",
            "Solution: Решение: используем формулу преобразования произведения косинусов в сумму:\\(\\cos(a) \\cdot \\cos(b) = \\frac{\\cos(a + b) + \\cos(a - b)}2\\)\\\\В данном случае, \\(a = 12^{\\circ}\\) и \\(b = 319^{\\circ}\\), поэтому:\\\\\\(\\cos(12^{\\circ}) \\cdot \\cos(319^{\\circ}) = \\frac{\\cos(331^{\\circ}) + \\cos(-307^{\\circ})}2\\)\\\\Подставляем значения и вычисляем:\\\\\\(\\cos(331^{\\circ}) + \\cos(-307^{\\circ}) = 0.7382\\)\n"
          ]
        }
      ],
      "source": [
        "def cos_product_to_sum():\n",
        "    \"\"\"\n",
        "    Преобразуйте в сумму, id = 14245\n",
        "    \"\"\"\n",
        "    angle1 = random.randint(1, 360)  # Генерация случайного угла в градусах\n",
        "    angle2 = random.randint(1, 360)\n",
        "\n",
        "    cos_product = math.cos(math.radians(angle1)) * math.cos(math.radians(angle2))\n",
        "    sum_result = (math.cos(math.radians(angle1 + angle2)) + math.cos(math.radians(angle1 - angle2))) / 2\n",
        "\n",
        "    task = f\"Преобразуйте выражение в сумму: \\(\\cos({angle1}^{{\\circ}}) \\cdot \\cos({angle2}^{{\\circ}})\\)\"\n",
        "    answer = f\"{sum_result:.4f}\"\n",
        "    solution = (\n",
        "        f\"Решение: используем формулу преобразования произведения косинусов в сумму:\"\n",
        "        f\"\\(\\cos(a) \\cdot \\cos(b) = \\\\frac{{\\cos(a + b) + \\cos(a - b)}}{2}\\)\"\n",
        "        f\"\\\\\\\\\"\n",
        "        f\"В данном случае, \\(a = {angle1}^{{\\circ}}\\) и \\(b = {angle2}^{{\\circ}}\\), поэтому:\"\n",
        "        f\"\\\\\\\\\"\n",
        "        f\"\\(\\cos({angle1}^{{\\circ}}) \\cdot \\cos({angle2}^{{\\circ}}) = \"\n",
        "        f\"\\\\frac{{\\cos({angle1 + angle2}^{{\\circ}}) + \\cos({angle1 - angle2}^{{\\circ}})}}{2}\\)\"\n",
        "        f\"\\\\\\\\\"\n",
        "        f\"Подставляем значения и вычисляем:\"\n",
        "        f\"\\\\\\\\\"\n",
        "        f\"\\(\\cos({angle1 + angle2}^{{\\circ}}) + \\cos({angle1 - angle2}^{{\\circ}}) = {sum_result:.4f}\\)\"\n",
        "    )\n",
        "    return answer, task, solution\n",
        "\n",
        "answer, task, solution = cos_product_to_sum()\n",
        "print(\"Task:\", task)\n",
        "print(\"Answer:\", answer)\n",
        "print(\"Solution:\", solution)\n"
      ]
    },
    {
      "cell_type": "code",
      "execution_count": null,
      "metadata": {
        "colab": {
          "base_uri": "https://localhost:8080/"
        },
        "id": "Sd-iHWnZNxQX",
        "outputId": "828c0a56-dd94-4933-a083-7d17d322f6f9"
      },
      "outputs": [
        {
          "name": "stdout",
          "output_type": "stream",
          "text": [
            "Task: Вычислите \\(\\cos160^0 \\cdot \\cos144^0 \\cdot \\cos281^0\\)\n",
            "Answer: 0.1451\n",
            "Solution:  Решение: используем формулу произведения косинусов \\(\\cos(\\alpha) \\cdot \\cos(\\beta) \\cdot \\cos(\\gamma) = \\cos(\\alpha + \\beta + \\gamma)\\). \\\\\\(\\cos160^0 \\cdot \\cos144^0 \\cdot \\cos281^0 = \\cos(160^0 + 144^0 + 281^0) = \\cos(160 + 144 + 281)^0 = 0.1451\\)\n"
          ]
        }
      ],
      "source": [
        "def cos_product():\n",
        "    \"\"\"\n",
        "    Для задачи на вычисление произведения косинусов, id = 14243\n",
        "    \"\"\"\n",
        "    angles = [random.randint(1, 360) for _ in range(3)]  # Генерируем случайные углы от 1 до 360\n",
        "    product = 1\n",
        "    for angle in angles:\n",
        "        product *= math.cos(math.radians(angle))\n",
        "\n",
        "    task = f\"Вычислите \\(\\cos{angles[0]}^0 \\cdot \\cos{angles[1]}^0 \\cdot \\cos{angles[2]}^0\\)\"\n",
        "    answer = f\"{round(product, 4):g}\"\n",
        "    solution = (\n",
        "        f\"Решение: используем формулу произведения косинусов \"\n",
        "        f\"\\(\\cos(\\\\alpha) \\cdot \\cos(\\\\beta) \\cdot \\cos(\\\\gamma) = \"\n",
        "        f\"\\cos(\\\\alpha + \\\\beta + \\\\gamma)\\). \"\n",
        "        f\"\\\\\\\\\"\n",
        "        f\"\\(\\cos{angles[0]}^0 \\cdot \\cos{angles[1]}^0 \\cdot \\cos{angles[2]}^0 = \"\n",
        "        f\"\\cos({angles[0]}^0 + {angles[1]}^0 + {angles[2]}^0) = \"\n",
        "        f\"\\cos({angles[0]} + {angles[1]} + {angles[2]})^0 = {answer}\\)\"\n",
        "    )\n",
        "    return answer, task, solution\n",
        "\n",
        "answer, task, solution = cos_product()\n",
        "print(\"Task:\", task)\n",
        "print(\"Answer:\", answer)\n",
        "print(\"Solution: \", solution)\n"
      ]
    },
    {
      "cell_type": "code",
      "execution_count": null,
      "metadata": {
        "colab": {
          "base_uri": "https://localhost:8080/"
        },
        "id": "hOOQNHmPOnpe",
        "outputId": "554f9661-4eed-4387-eb12-bf15973c3de1"
      },
      "outputs": [
        {
          "name": "stdout",
          "output_type": "stream",
          "text": [
            "Task: Вычислите произведение \\(\\sin 278°, 53°, 124°\\)\n",
            "Answer: -0.6557\n",
            "Solution: Решение: Для вычисления произведения синусов используем свойство: \\(\\sin(\\alpha) \\cdot \\sin(\\beta) = \\frac{1}{2} [ \\cos(\\alpha - \\beta) - \\cos(\\alpha + \\beta)]\\). \\\\Применяем это свойство для каждой пары углов и получаем: \\(\\sin 278°, 53°, 124° = \\frac{1}{2} [ \\cos(53° - 124°) - \\cos(53° + 124°)] \\\\= \\frac{1}{2} [ \\cos(-71°) - \\cos(177°)]= -0.6557\n"
          ]
        }
      ],
      "source": [
        "def sin_product_random_angles():\n",
        "    \"\"\"\n",
        "    Для задачи на вычисление произведения синусов с случайными углами, id = 14249\n",
        "    \"\"\"\n",
        "    angles = [random.randint(0, 360) for _ in range(3)]  # Generate 3 random angles in degrees\n",
        "    sin_product_result = 1.0\n",
        "\n",
        "    for angle in angles:\n",
        "        sin_product_result *= math.sin(math.radians(angle))\n",
        "\n",
        "    angles_str = \", \".join([f\"{angle}°\" for angle in angles])\n",
        "    task = f\"Вычислите произведение \\(\\sin {angles_str}\\)\"\n",
        "    answer = f\"{sin_product_result:.4f}\"\n",
        "    solution = (\n",
        "        f\"Решение: Для вычисления произведения синусов используем свойство: \"\n",
        "        f\"\\(\\sin(\\\\alpha) \\cdot \\sin(\\\\beta) = \\\\frac{{1}}{{2}} [ \\cos(\\\\alpha - \\\\beta) - \\cos(\\\\alpha + \\\\beta)]\\). \"\n",
        "        f\"\\\\\\\\\"\n",
        "        f\"Применяем это свойство для каждой пары углов и получаем: \"\n",
        "        f\"\\(\\sin {angles_str} = \"\n",
        "        f\"\\\\frac{{1}}{{2}} [ \\cos({angles[1]}° - {angles[2]}°) - \\cos({angles[1]}° + {angles[2]}°)] \\\\\\\\\"\n",
        "        f\"= \\\\frac{{1}}{{2}} [ \\cos({angles[1] - angles[2]}°) - \\cos({angles[1] + angles[2]}°)]\"\n",
        "        f\"= {sin_product_result:.4f}\"\n",
        "    )\n",
        "\n",
        "    return answer, task, solution\n",
        "\n",
        "answer, task, solution = sin_product_random_angles()\n",
        "print(\"Task:\", task)\n",
        "print(\"Answer:\", answer)\n",
        "print(\"Solution:\", solution)\n"
      ]
    },
    {
      "cell_type": "code",
      "execution_count": null,
      "metadata": {
        "colab": {
          "base_uri": "https://localhost:8080/"
        },
        "id": "9hcdRYjXO1VJ",
        "outputId": "e5745065-7824-4e2d-ba4d-ac8453274ab6"
      },
      "outputs": [
        {
          "name": "stdout",
          "output_type": "stream",
          "text": [
            "Task: Преобразуйте выражение \\(\\sin(262) \\cdot \\sin(234)\\) в сумму синусов и косинусов.\n",
            "Answer: 0.6947\n",
            "Solution:  Решение: используем тригонометрическое тождество \\(\\sin(\u0007lpha + \beta) = \\sin \u0007lpha \\cdot \\cos \beta + \\cos \u0007lpha \\cdot \\sin \beta\\). \\\\Преобразуем углы: 262 = 360 + 234. \\\\Теперь можем применить тождество: \\\\\\(\\sin(262) \\cdot \\sin(234) = \\sin(262 + 234) = \\sin(496)\\). \\\\Подставляем значение синуса суммы углов и получаем \\(\\sin(496) = 0.6947\\).\n"
          ]
        }
      ],
      "source": [
        "def generate_transform_to_sum_of_sines_task():\n",
        "    \"\"\"\n",
        "    Генерирует задачу \"Преобразуйте в сумму sin750⋅sin150\" id = 14253\n",
        "    \"\"\"\n",
        "    angle_1 = random.randint(0, 360)\n",
        "    angle_2 = random.randint(0, 360)\n",
        "\n",
        "    angle_sum = angle_1 + angle_2\n",
        "    sin_sum = math.sin(math.radians(angle_1)) * math.cos(math.radians(angle_2)) + \\\n",
        "              math.cos(math.radians(angle_1)) * math.sin(math.radians(angle_2))\n",
        "\n",
        "    task = f\"Преобразуйте выражение \\(\\sin({angle_1}) \\cdot \\sin({angle_2})\\) в сумму синусов и косинусов.\"\n",
        "    answer = f\"{sin_sum:.4f}\"\n",
        "    solution = (\n",
        "        f\"Решение: используем тригонометрическое тождество \\(\\sin(\\alpha + \\beta) = \\sin \\alpha \\cdot \\cos \\beta + \\cos \\alpha \\cdot \\sin \\beta\\). \"\n",
        "        f\"\\\\\\\\\"\n",
        "        f\"Преобразуем углы: {angle_1} = 360 + {angle_2}. \"\n",
        "        f\"\\\\\\\\\"\n",
        "        f\"Теперь можем применить тождество: \"\n",
        "        f\"\\\\\\\\\"\n",
        "        f\"\\(\\sin({angle_1}) \\cdot \\sin({angle_2}) = \\sin({angle_1} + {angle_2}) = \\sin({angle_sum})\\). \"\n",
        "        f\"\\\\\\\\\"\n",
        "        f\"Подставляем значение синуса суммы углов и получаем \\(\\sin({angle_sum}) = {sin_sum:.4f}\\).\"\n",
        "    )\n",
        "    return answer, task, solution\n",
        "\n",
        "answer, task, solution = generate_transform_to_sum_of_sines_task()\n",
        "print(\"Task:\", task)\n",
        "print(\"Answer:\", answer)\n",
        "print(\"Solution: \", solution)\n"
      ]
    },
    {
      "cell_type": "code",
      "execution_count": null,
      "metadata": {
        "colab": {
          "base_uri": "https://localhost:8080/"
        },
        "id": "3xCosyMCW09c",
        "outputId": "eaf28d66-1f28-4d0b-f76d-26b18ec9de51"
      },
      "outputs": [
        {
          "name": "stdout",
          "output_type": "stream",
          "text": [
            "Task: Преобразуйте выражение \\(\\tan(55^\\circ) + \\tan(67^\\circ)\\) в произведение тригонометрических функций.\n",
            "Answer: 3.3645\n",
            "Solution:  Решение: Мы знаем, что \\(\\tan(a + b) = \\frac{\\tan(a) + \\tan(b)}{1 - \\tan(a) \\cdot \\tan(b)}\\). Применяя это соотношение, получаем:\\\\\\(\\tan(55^\\circ + 67^\\circ) = \\frac{\\tan(55^\\circ) + \\tan(67^\\circ)}{1 - \\tan(55^\\circ) \\cdot \\tan(67^\\circ)}\\).\\\\Подставляем значения и вычисляем:\\\\\\(\\tan(55^\\circ + 67^\\circ) = \\frac{\\tan(55^\\circ) + \\tan(67^\\circ)}{1 - \\tan(55^\\circ) \\cdot \\tan(67^\\circ)} = \\frac{\\tan(55^\\circ) + \\tan(67^\\circ)}{1 - 3.3645}\\)\n"
          ]
        }
      ],
      "source": [
        "def generate_trig_sum_to_product_task():\n",
        "    \"\"\"\n",
        "    Генерация задачи: Преобразуйте сумму (или разность) тригонометрических функций в произведение и упростите tg100+tg200. ID=14251\n",
        "    \"\"\"\n",
        "    angle1 = random.randint(1, 89)  # Генерация случайного угла от 1 до 89 градусов\n",
        "    angle2 = random.randint(1, 89)  # Генерация случайного угла от 1 до 89 градусов\n",
        "\n",
        "    tan_sum = math.tan(math.radians(angle1)) + math.tan(math.radians(angle2))\n",
        "    tan_product = math.tan(math.radians(angle1)) * math.tan(math.radians(angle2))\n",
        "\n",
        "    task = f\"Преобразуйте выражение \\(\\\\tan({angle1}^\\\\circ) + \\\\tan({angle2}^\\\\circ)\\) в произведение тригонометрических функций.\"\n",
        "    answer = f\"{tan_product:.4f}\"\n",
        "    solution = (\n",
        "        f\"Решение: Мы знаем, что \"\n",
        "        f\"\\\\(\\\\tan(a + b) = \\\\frac{{\\\\tan(a) + \\\\tan(b)}}{{1 - \\\\tan(a) \\\\cdot \\\\tan(b)}}\\\\). \"\n",
        "        f\"Применяя это соотношение, получаем:\"\n",
        "        f\"\\\\\\\\\"\n",
        "        f\"\\\\(\\\\tan({angle1}^\\\\circ + {angle2}^\\\\circ) = \"\n",
        "        f\"\\\\frac{{\\\\tan({angle1}^\\\\circ) + \\\\tan({angle2}^\\\\circ)}}{{1 - \\\\tan({angle1}^\\\\circ) \\\\cdot \\\\tan({angle2}^\\\\circ)}}\\\\).\"\n",
        "        f\"\\\\\\\\\"\n",
        "        f\"Подставляем значения и вычисляем:\"\n",
        "        f\"\\\\\\\\\"\n",
        "        f\"\\\\(\\\\tan({angle1}^\\\\circ + {angle2}^\\\\circ) = \"\n",
        "        f\"\\\\frac{{\\\\tan({angle1}^\\\\circ) + \\\\tan({angle2}^\\\\circ)}}{{1 - \\\\tan({angle1}^\\\\circ) \\\\cdot \\\\tan({angle2}^\\\\circ)}} = \"\n",
        "        f\"\\\\frac{{\\\\tan({angle1}^\\\\circ) + \\\\tan({angle2}^\\\\circ)}}{{1 - {tan_product:.4f}}}\\\\)\"\n",
        "    )\n",
        "    return answer, task, solution\n",
        "\n",
        "answer, task, solution = generate_trig_sum_to_product_task()\n",
        "print(\"Task:\", task)\n",
        "print(\"Answer:\", answer)\n",
        "print(\"Solution: \", solution)\n"
      ]
    },
    {
      "cell_type": "code",
      "execution_count": null,
      "metadata": {
        "colab": {
          "base_uri": "https://localhost:8080/"
        },
        "id": "OtQnprnFj371",
        "outputId": "908efd5a-c6e4-45a2-8ebc-3d02a67c2fe0"
      },
      "outputs": [
        {
          "name": "stdout",
          "output_type": "stream",
          "text": [
            "Task: Вычислите значение выражения \\(\\sin(271.76) \\cdot \\cos(213.37) + \\cos(271.76) \\cdot \\sin(213.37)\\)\n",
            "Answer: 0.8179\n",
            "Solution:  Решение: Используем формулы для синуса и косинуса суммы углов: \\(\\sin(A + B) = \\sin A \\cdot \\cos B + \\cos A \\cdot \\sin B\\). \\\\Подставляем \\(A = 271.76^\\circ\\) и \\(B = 213.37^\\circ\\): \\(\\sin(271.76 + 213.37) = \\sin 271.76 \\cdot \\cos 213.37 + \\cos 271.76 \\cdot \\sin 213.37\\). \\\\Вычисляем значения синуса и косинуса для заданных углов и подставляем в исходное выражение: \\(\\sin(271.76^\\circ) \\cdot \\cos(213.37^\\circ) + \\cos(271.76^\\circ) \\cdot \\sin(213.37^\\circ) = 0.8179\\)\n"
          ]
        }
      ],
      "source": [
        "def trig_expression_value():\n",
        "    \"\"\"\n",
        "    Вычисление значения выражения sin180cos120+cos180sin120, id = 14094\n",
        "    \"\"\"\n",
        "    # Генерируем случайные углы от 0 до 360 градусов\n",
        "    angle_1 = random.uniform(0, 360)\n",
        "    angle_2 = random.uniform(0, 360)\n",
        "\n",
        "    result = math.sin(math.radians(angle_1)) * math.cos(math.radians(angle_2)) + math.cos(math.radians(angle_1)) * math.sin(math.radians(angle_2))\n",
        "\n",
        "    task = f\"Вычислите значение выражения \\(\\sin({angle_1:.2f}) \\cdot \\cos({angle_2:.2f}) + \\cos({angle_1:.2f}) \\cdot \\sin({angle_2:.2f})\\)\"\n",
        "    answer = f\"{result:.4f}\"\n",
        "    solution = (\n",
        "        f\"Решение: Используем формулы для синуса и косинуса суммы углов: \"\n",
        "        f\"\\(\\sin(A + B) = \\sin A \\cdot \\cos B + \\cos A \\cdot \\sin B\\). \"\n",
        "        f\"\\\\\\\\\"\n",
        "        f\"Подставляем \\(A = {angle_1:.2f}^\\circ\\) и \\(B = {angle_2:.2f}^\\circ\\): \"\n",
        "        f\"\\(\\sin({angle_1:.2f} + {angle_2:.2f}) = \\sin {angle_1:.2f} \\cdot \\cos {angle_2:.2f} + \\cos {angle_1:.2f} \\cdot \\sin {angle_2:.2f}\\). \"\n",
        "        f\"\\\\\\\\\"\n",
        "        f\"Вычисляем значения синуса и косинуса для заданных углов и подставляем в исходное выражение: \"\n",
        "        f\"\\(\\sin({angle_1:.2f}^\\circ) \\cdot \\cos({angle_2:.2f}^\\circ) + \\cos({angle_1:.2f}^\\circ) \\cdot \\sin({angle_2:.2f}^\\circ) = {result:.4f}\\)\"\n",
        "    )\n",
        "    return answer, task, solution\n",
        "\n",
        "answer, task, solution = trig_expression_value()\n",
        "print(\"Task:\", task)\n",
        "print(\"Answer:\", answer)\n",
        "print(\"Solution: \", solution)\n"
      ]
    },
    {
      "cell_type": "code",
      "execution_count": null,
      "metadata": {
        "colab": {
          "base_uri": "https://localhost:8080/"
        },
        "id": "ddfsAqKqljoL",
        "outputId": "5f19661a-06be-4dcf-dd6c-83862f38721f"
      },
      "outputs": [
        {
          "name": "stdout",
          "output_type": "stream",
          "text": [
            "Task: Найдите значение cos(β), если cos(α) = 0.9455 и cos(α + β) = 0.8988\n",
            "Answer: 1.0000\n",
            "Solution: Решение: используем формулу для суммы косинусов: cos(α + β) = cos(α) cos(β) - sin(α) sin(β), откуда cos(β) =  (cos(α + β) - cos(α) sin(β)) / sin(α). \n",
            "Заметим, что из условия следует, что sin(β) = √(1 - cos^2(β)), подставив которое, получим cos(β) =  (cos(α + β) - cos(α) √(1 - cos^2(β))) / sin(α). \n",
            "Теперь подставим известные значения и рассчитаем cos(β).\n",
            "==============================\n"
          ]
        }
      ],
      "source": [
        "def generate_task_cos_beta(alpha, alpha_beta):\n",
        "    \"\"\"\n",
        "    Генерация задачи на вычисление значения cos(β) на основе параметров alpha и alpha_beta. ID=14103\n",
        "    \"\"\"\n",
        "    cos_alpha = math.cos(math.radians(alpha))\n",
        "    cos_alpha_beta = math.cos(math.radians(alpha_beta))\n",
        "\n",
        "    # Using trigonometric identities to find cos(β)\n",
        "    sin_alpha = math.sqrt(1 - cos_alpha ** 2)\n",
        "    sin_alpha_beta = math.sqrt(1 - cos_alpha_beta ** 2)\n",
        "    cos_beta = (cos_alpha * cos_alpha_beta - sin_alpha * sin_alpha_beta) / (cos_alpha * sin_alpha_beta + sin_alpha * cos_alpha_beta)\n",
        "\n",
        "    task = (\n",
        "        f\"Найдите значение cos(β), если \"\n",
        "        f\"cos(α) = {cos_alpha:.4f} и \"\n",
        "        f\"cos(α + β) = {cos_alpha_beta:.4f}\"\n",
        "    )\n",
        "    answer = f\"{cos_beta:.4f}\"\n",
        "    solution = (\n",
        "        \"Решение: используем формулу для суммы \"\n",
        "        \"косинусов: cos(α + β) = cos(α) cos(β) - sin(α) sin(β), \"\n",
        "        \"откуда \"\n",
        "        \"cos(β) = \"\n",
        "        \" (cos(α + β) - cos(α) sin(β)) / sin(α). \"\n",
        "        \"\\n\"\n",
        "        \"Заметим, что из условия следует, что \"\n",
        "        \"sin(β) = √(1 - cos^2(β)), \"\n",
        "        \"подставив которое, получим \"\n",
        "        \"cos(β) = \"\n",
        "        \" (cos(α + β) - cos(α) √(1 - cos^2(β))) / sin(α). \"\n",
        "        \"\\n\"\n",
        "        \"Теперь подставим известные значения и рассчитаем \"\n",
        "        \"cos(β).\"\n",
        "    )\n",
        "\n",
        "    return task, answer, solution\n",
        "\n",
        "# Параметры задачи из базы данных\n",
        "alpha_values = [random.randint(1, 89)]\n",
        "alpha_beta_values = [random.randint(1, 89)]\n",
        "\n",
        "for alpha, alpha_beta in zip(alpha_values, alpha_beta_values):\n",
        "    task, answer, solution = generate_task_cos_beta(alpha, alpha_beta)\n",
        "    print(\"Task:\", task)\n",
        "    print(\"Answer:\", answer)\n",
        "    print(\"Solution:\", solution)\n",
        "    print(\"=\" * 30)\n"
      ]
    },
    {
      "cell_type": "code",
      "execution_count": null,
      "metadata": {
        "colab": {
          "base_uri": "https://localhost:8080/"
        },
        "id": "1RHaDvSRmfPV",
        "outputId": "41f5d3a0-1337-4264-8a84-5443793ac68b"
      },
      "outputs": [
        {
          "name": "stdout",
          "output_type": "stream",
          "text": [
            "Task: Вычислите значение \\(\\sin^2(4^\\circ) + \\sin^2(84^\\circ) + \\tan^2(84^\\circ)\\)\n",
            "Answer: 91.5171\n",
            "Solution:  Решение: Вычисляем \\(\\sin^2(4^\\circ)\\) как \\(\\sin^2(4^\\circ) = (\\sin(4^\\circ))^2 = 0.0049\\). \\\\Вычисляем \\(\\sin^2(84^\\circ)\\) как \\(\\sin^2(84^\\circ) = (\\sin(84^\\circ))^2 = 0.9891\\). \\\\Далее вычисляем \\(\\tan^2(84^\\circ)\\) как \\(\\tan^2(84^\\circ) = (\\tan(84^\\circ))^2 = 90.5231\\). \\\\Складываем полученные значения: \\(\\sin^2(4^\\circ) + \\sin^2(84^\\circ) + \\tan^2(84^\\circ) = 0.0049 + 0.9891 + 90.5231 = 91.5171\\)\n"
          ]
        }
      ],
      "source": [
        "def trigonometry_problem():\n",
        "    \"\"\"\n",
        "    Генератор задачи на вычисление значений тригонометрических функций.  ID=14212\n",
        "    \"\"\"\n",
        "    angle1_degrees = random.randint(1, 89)  # Generate random angle 1 in degrees\n",
        "    angle2_degrees = random.randint(1, 89)  # Generate random angle 2 in degrees\n",
        "\n",
        "    angle1_radians = math.radians(angle1_degrees)\n",
        "    angle2_radians = math.radians(angle2_degrees)\n",
        "\n",
        "    sin_squared1 = math.sin(angle1_radians) ** 2\n",
        "    sin_squared2 = math.sin(angle2_radians) ** 2\n",
        "    tan_squared = math.tan(angle2_radians) ** 2\n",
        "\n",
        "    total = sin_squared1 + sin_squared2 + tan_squared\n",
        "\n",
        "    task = (\n",
        "        f\"Вычислите значение \\\\(\\\\sin^2({angle1_degrees}^\\\\circ) + \\\\sin^2({angle2_degrees}^\\\\circ) + \\\\tan^2({angle2_degrees}^\\\\circ)\\\\)\"\n",
        "    )\n",
        "    answer = f\"{total:.4f}\"\n",
        "\n",
        "    solution = (\n",
        "        f\"Решение: \"\n",
        "        f\"Вычисляем \\\\(\\\\sin^2({angle1_degrees}^\\\\circ)\\\\) как \"\n",
        "        f\"\\\\(\\\\sin^2({angle1_degrees}^\\\\circ) = (\\\\sin({angle1_degrees}^\\\\circ))^2 = {sin_squared1:.4f}\\\\). \"\n",
        "        f\"\\\\\\\\\"\n",
        "        f\"Вычисляем \\\\(\\\\sin^2({angle2_degrees}^\\\\circ)\\\\) как \"\n",
        "        f\"\\\\(\\\\sin^2({angle2_degrees}^\\\\circ) = (\\\\sin({angle2_degrees}^\\\\circ))^2 = {sin_squared2:.4f}\\\\). \"\n",
        "        f\"\\\\\\\\\"\n",
        "        f\"Далее вычисляем \\\\(\\\\tan^2({angle2_degrees}^\\\\circ)\\\\) как \"\n",
        "        f\"\\\\(\\\\tan^2({angle2_degrees}^\\\\circ) = (\\\\tan({angle2_degrees}^\\\\circ))^2 = {tan_squared:.4f}\\\\). \"\n",
        "        f\"\\\\\\\\\"\n",
        "        f\"Складываем полученные значения: \"\n",
        "        f\"\\\\(\\\\sin^2({angle1_degrees}^\\\\circ) + \\\\sin^2({angle2_degrees}^\\\\circ) + \\\\tan^2({angle2_degrees}^\\\\circ) = \"\n",
        "        f\"{sin_squared1:.4f} + {sin_squared2:.4f} + {tan_squared:.4f} = {total:.4f}\\\\)\"\n",
        "    )\n",
        "\n",
        "    return answer, task, solution\n",
        "\n",
        "answer, task, solution = trigonometry_problem()\n",
        "print(\"Task:\", task)\n",
        "print(\"Answer:\", answer)\n",
        "print(\"Solution: \", solution)\n"
      ]
    },
    {
      "cell_type": "code",
      "execution_count": 19,
      "metadata": {
        "colab": {
          "base_uri": "https://localhost:8080/"
        },
        "id": "R2NSkK12oMDu",
        "outputId": "fd2be982-ee91-42ef-ac72-1942c4120a32"
      },
      "outputs": [
        {
          "output_type": "stream",
          "name": "stdout",
          "text": [
            "Task: Вычислите значение \\(\\cos(\\alpha_1) \\cdot \\cos(\\alpha_2) \\cdot \\cos(\\alpha_3) \\cdot \\cos(\\alpha_4) \\cdot \\cos(\\alpha_5)\\), где \\(\\alpha_1, \\alpha_2, \\alpha_3, \\alpha_4, \\alpha_5\\) - случайные углы.\n",
            "Answer: 0.0824\n",
            "Solution: Решение: Воспользуемся формулой произведения косинусов. Эта формула гласит, что \\(\\cos(\\alpha) \\cdot \\cos(\\beta) = \\frac{1}{2} (\\cos(\\alpha - \\beta) + \\cos(\\alpha + \\beta))\\). Применим данную формулу последовательно для всех пар углов:\\[\\cos(\\alpha_1) \\cdot \\cos(\\alpha_2) = \\frac12 (\\cos(\\alpha_1 + \\alpha_2) + \\cos(1.2452273990356875)) = \\frac12 (\\cos(3.3271879370395703) + \\cos(1.2452273990356875))\\\\\\cos(\\alpha_1) \\cdot \\cos(\\alpha_3) = \\frac12 (\\cos(\\alpha_1 + \\alpha_3) + \\cos(0.04330074211106805)) = \\frac12 (\\cos(4.615716078186326) + \\cos(0.04330074211106805))\\\\\\cos(\\alpha_1) \\cdot \\cos(\\alpha_4) = \\frac12 (\\cos(\\alpha_1 + \\alpha_4) + \\cos(0.3432861055485972)) = \\frac12 (\\cos(4.22912923052666) + \\cos(0.3432861055485972))\\\\\\cos(\\alpha_1) \\cdot \\cos(\\alpha_5) = \\frac12 (\\cos(\\alpha_1 + \\alpha_5) + \\cos(0.7478558837614244)) = \\frac12 (\\cos(5.320271219836682) + \\cos(0.7478558837614244))\\\\\\cos(\\alpha_2) \\cdot \\cos(\\alpha_3) = \\frac12 (\\cos(\\alpha_2 + \\alpha_3) + \\cos(1.2885281411467555)) = \\frac12 (\\cos(3.3704886791506383) + \\cos(1.2885281411467555))\\\\\\cos(\\alpha_2) \\cdot \\cos(\\alpha_4) = \\frac12 (\\cos(\\alpha_2 + \\alpha_4) + \\cos(0.9019412934870903)) = \\frac12 (\\cos(2.9839018314909733) + \\cos(0.9019412934870903))\\\\\\cos(\\alpha_2) \\cdot \\cos(\\alpha_5) = \\frac12 (\\cos(\\alpha_2 + \\alpha_5) + \\cos(1.9930832827971119)) = \\frac12 (\\cos(4.075043820800994) + \\cos(1.9930832827971119))\\\\\\cos(\\alpha_3) \\cdot \\cos(\\alpha_4) = \\frac12 (\\cos(\\alpha_3 + \\alpha_4) + \\cos(0.3865868476596652)) = \\frac12 (\\cos(4.272429972637728) + \\cos(0.3865868476596652))\\\\\\cos(\\alpha_3) \\cdot \\cos(\\alpha_5) = \\frac12 (\\cos(\\alpha_3 + \\alpha_5) + \\cos(0.7045551416503564)) = \\frac12 (\\cos(5.36357196194775) + \\cos(0.7045551416503564))\\\\\\cos(\\alpha_4) \\cdot \\cos(\\alpha_5) = \\frac12 (\\cos(\\alpha_4 + \\alpha_5) + \\cos(1.0911419893100216)) = \\frac12 (\\cos(4.976985114288085) + \\cos(1.0911419893100216))\\\\\\]Таким образом, получаем ответ: \\(\\cos(\\alpha_1) \\cdot \\cos(\\alpha_2) \\cdot \\cos(\\alpha_3) \\cdot \\cos(\\alpha_4) \\cdot \\cos(\\alpha_5) = 0.0824\\).\n"
          ]
        }
      ],
      "source": [
        "def generate_cosine_product_problem():\n",
        "    \"\"\"\n",
        "    Генерация задачи на применение формулы произведения косинусов. ID=14252\n",
        "    \"\"\"\n",
        "    num_angles = 5  # Количество углов\n",
        "    angles = [random.uniform(0, math.pi) for _ in range(num_angles)]\n",
        "    cos_product = 1\n",
        "\n",
        "    for angle in angles:\n",
        "        cos_product *= math.cos(angle)\n",
        "\n",
        "    # Создаем задачу и ответ в формате LaTeX\n",
        "    task = (\n",
        "        \"Вычислите значение \\\\(\\\\cos(\\\\alpha_1) \\\\cdot \"\n",
        "        \"\\\\cos(\\\\alpha_2) \\\\cdot \\\\cos(\\\\alpha_3) \\\\cdot \"\n",
        "        \"\\\\cos(\\\\alpha_4) \\\\cdot \\\\cos(\\\\alpha_5)\\\\), \"\n",
        "        \"где \\\\(\\\\alpha_1, \\\\alpha_2, \\\\alpha_3, \\\\alpha_4, \\\\alpha_5\\\\) - случайные углы.\"\n",
        "    )\n",
        "    answer = f\"{cos_product:.4f}\"\n",
        "    solution = (\n",
        "        \"Решение: Воспользуемся формулой произведения косинусов. \"\n",
        "        \"Эта формула гласит, что \"\n",
        "        \"\\\\(\\\\cos(\\\\alpha) \\\\cdot \\\\cos(\\\\beta) = \"\n",
        "        \"\\\\frac{1}{2} (\\\\cos(\\\\alpha - \\\\beta) + \\\\cos(\\\\alpha + \\\\beta))\\\\). \"\n",
        "        \"Применим данную формулу последовательно для всех пар углов:\"\n",
        "        \"\\\\[\"\n",
        "    )\n",
        "\n",
        "    for i in range(num_angles - 1):\n",
        "        for j in range(i + 1, num_angles):\n",
        "            angle_sum = angles[i] + angles[j]\n",
        "            angle_diff = abs(angles[i] - angles[j])\n",
        "            solution += (\n",
        "                f\"\\\\cos(\\\\alpha_{i+1}) \\\\cdot \\\\cos(\\\\alpha_{j+1}) = \"\n",
        "                f\"\\\\frac{1}{2} (\\\\cos(\\\\alpha_{i+1} + \\\\alpha_{j+1}) + \"\n",
        "                f\"\\\\cos({angle_diff})) = \\\\frac{1}{2} (\\\\cos({angle_sum}) + \"\n",
        "                f\"\\\\cos({angle_diff}))\\\\\\\\\"\n",
        "            )\n",
        "\n",
        "    solution += (\n",
        "        \"\\\\]\"\n",
        "        \"Таким образом, получаем ответ: \"\n",
        "        f\"\\\\(\\\\cos(\\\\alpha_1) \\\\cdot \\\\cos(\\\\alpha_2) \\\\cdot \\\\cos(\\\\alpha_3) \\\\cdot \"\n",
        "        f\"\\\\cos(\\\\alpha_4) \\\\cdot \\\\cos(\\\\alpha_5) = {cos_product:.4f}\\\\).\"\n",
        "    )\n",
        "\n",
        "    return answer, task, solution\n",
        "\n",
        "answer, task, solution = generate_cosine_product_problem()\n",
        "print(\"Task:\", task)\n",
        "print(\"Answer:\", answer)\n",
        "print(\"Solution:\", solution)\n"
      ]
    },
    {
      "cell_type": "code",
      "execution_count": null,
      "metadata": {
        "colab": {
          "base_uri": "https://localhost:8080/"
        },
        "id": "jH17wS1UpOmX",
        "outputId": "a70921ab-bbc7-487a-b1d1-38e3f7761fff"
      },
      "outputs": [
        {
          "name": "stdout",
          "output_type": "stream",
          "text": [
            "Task: Вычислите значение выражения \\(\\sin(352) \\cdot \\cos(300) + \\cos(352) \\cdot \\sin(300)\\)\n",
            "Answer: -0.9272\n",
            "Solution:  Решение: используем свойства тригонометрических функций и их значения для заданных углов. \\\\\\(\\sin(352) = -0.1392\\) \\\\\\(\\cos(352) = 0.9903\\) \\\\\\(\\sin(300) = -0.8660\\) \\\\\\(\\cos(300) = 0.5000\\) \\\\Тогда искомое значение: \\(\\sin(352) \\cdot \\cos(300) + \\cos(352) \\cdot \\sin(300) = -0.1392 \\cdot 0.5000 + 0.9903 \\cdot -0.8660 = -0.9272\\)\n"
          ]
        }
      ],
      "source": [
        "def random_trig_expression():\n",
        "    \"\"\"\n",
        "    Задача на вычисление случайного тригонометрического выражения ID=14104, 14105\n",
        "    \"\"\"\n",
        "    # Генерация случайных углов в градусах\n",
        "    angle_1 = random.randint(0, 360)\n",
        "    angle_2 = random.randint(0, 360)\n",
        "\n",
        "    # Вычисление значений синусов и косинусов углов\n",
        "    sin_1 = math.sin(math.radians(angle_1))\n",
        "    cos_1 = math.cos(math.radians(angle_1))\n",
        "    sin_2 = math.sin(math.radians(angle_2))\n",
        "    cos_2 = math.cos(math.radians(angle_2))\n",
        "\n",
        "    # Вычисление значения выражения\n",
        "    result = sin_1 * cos_2 + cos_1 * sin_2\n",
        "\n",
        "    task = f\"Вычислите значение выражения \\(\\sin({angle_1}) \\cdot \\cos({angle_2}) + \\cos({angle_1}) \\cdot \\sin({angle_2})\\)\"\n",
        "    answer = f\"{result:.4f}\"\n",
        "    solution = (\n",
        "        f\"Решение: используем свойства тригонометрических функций и их значения для заданных углов. \"\n",
        "        f\"\\\\\\\\\"\n",
        "        f\"\\(\\sin({angle_1}) = {sin_1:.4f}\\) \\\\\\\\\"\n",
        "        f\"\\(\\cos({angle_1}) = {cos_1:.4f}\\) \\\\\\\\\"\n",
        "        f\"\\(\\sin({angle_2}) = {sin_2:.4f}\\) \\\\\\\\\"\n",
        "        f\"\\(\\cos({angle_2}) = {cos_2:.4f}\\) \\\\\\\\\"\n",
        "        f\"Тогда искомое значение: \"\n",
        "        f\"\\(\\sin({angle_1}) \\cdot \\cos({angle_2}) + \\cos({angle_1}) \\cdot \\sin({angle_2}) = \"\n",
        "        f\"{sin_1:.4f} \\cdot {cos_2:.4f} + {cos_1:.4f} \\cdot {sin_2:.4f} = {result:.4f}\\)\"\n",
        "    )\n",
        "    return answer, task, solution\n",
        "\n",
        "answer, task, solution = random_trig_expression()\n",
        "print(\"Task:\", task)\n",
        "print(\"Answer:\", answer)\n",
        "print(\"Solution: \", solution)\n"
      ]
    },
    {
      "cell_type": "code",
      "execution_count": null,
      "metadata": {
        "colab": {
          "base_uri": "https://localhost:8080/"
        },
        "id": "cqE3pohoYp6b",
        "outputId": "f14ea1f3-b899-46bb-f556-43ebbf6b8acc"
      },
      "outputs": [
        {
          "name": "stdout",
          "output_type": "stream",
          "text": [
            "Task: Вычислите значение выражения \\(\\sin(88) \\cdot \\cos(75) - \\cos(88) \\cdot \\sin(75)\\)\n",
            "Answer: 0.2250\n",
            "Solution:  Решение: используем свойства тригонометрических функций и их значения для заданных углов. \\\\\\(\\sin(88) = 0.9994\\) \\\\\\(\\cos(88) = 0.0349\\) \\\\\\(\\sin(75) = 0.9659\\) \\\\\\(\\cos(75) = 0.2588\\) \\\\Тогда искомое значение: \\(\\sin(88) \\cdot \\cos(75) - \\cos(88) \\cdot \\sin(75) = 0.9994 \\cdot 0.2588 - 0.0349 \\cdot 0.9659 = 0.2250\\)\n"
          ]
        }
      ],
      "source": [
        "def random_minus_trig_expression():\n",
        "    \"\"\"\n",
        "    Задача на вычисление случайного тригонометрического выражения с минусом ID=14106\n",
        "    \"\"\"\n",
        "    # Генерация случайных углов в градусах\n",
        "    angle_1 = random.randint(0, 360)\n",
        "    angle_2 = random.randint(0, 360)\n",
        "\n",
        "    # Вычисление значений синусов и косинусов углов\n",
        "    sin_1 = math.sin(math.radians(angle_1))\n",
        "    cos_1 = math.cos(math.radians(angle_1))\n",
        "    sin_2 = math.sin(math.radians(angle_2))\n",
        "    cos_2 = math.cos(math.radians(angle_2))\n",
        "\n",
        "    # Вычисление значения выражения\n",
        "    result = sin_1 * cos_2 - cos_1 * sin_2  # Обратите внимание на минус здесь\n",
        "\n",
        "    task = f\"Вычислите значение выражения \\(\\sin({angle_1}) \\cdot \\cos({angle_2}) - \\cos({angle_1}) \\cdot \\sin({angle_2})\\)\"\n",
        "    answer = f\"{result:.4f}\"\n",
        "    solution = (\n",
        "        f\"Решение: используем свойства тригонометрических функций и их значения для заданных углов. \"\n",
        "        f\"\\\\\\\\\"\n",
        "        f\"\\(\\sin({angle_1}) = {sin_1:.4f}\\) \\\\\\\\\"\n",
        "        f\"\\(\\cos({angle_1}) = {cos_1:.4f}\\) \\\\\\\\\"\n",
        "        f\"\\(\\sin({angle_2}) = {sin_2:.4f}\\) \\\\\\\\\"\n",
        "        f\"\\(\\cos({angle_2}) = {cos_2:.4f}\\) \\\\\\\\\"\n",
        "        f\"Тогда искомое значение: \"\n",
        "        f\"\\(\\sin({angle_1}) \\cdot \\cos({angle_2}) - \\cos({angle_1}) \\cdot \\sin({angle_2}) = \"\n",
        "        f\"{sin_1:.4f} \\cdot {cos_2:.4f} - {cos_1:.4f} \\cdot {sin_2:.4f} = {result:.4f}\\)\"\n",
        "    )\n",
        "    return answer, task, solution\n",
        "\n",
        "answer, task, solution = random_minus_trig_expression()\n",
        "print(\"Task:\", task)\n",
        "print(\"Answer:\", answer)\n",
        "print(\"Solution: \", solution)\n"
      ]
    },
    {
      "cell_type": "code",
      "execution_count": null,
      "metadata": {
        "id": "8zJ7DlSebLxP"
      },
      "outputs": [],
      "source": []
    }
  ],
  "metadata": {
    "colab": {
      "provenance": []
    },
    "kernelspec": {
      "display_name": "Python 3",
      "name": "python3"
    },
    "language_info": {
      "name": "python"
    }
  },
  "nbformat": 4,
  "nbformat_minor": 0
}